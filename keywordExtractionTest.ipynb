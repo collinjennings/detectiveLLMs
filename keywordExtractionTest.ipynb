{
  "nbformat": 4,
  "nbformat_minor": 0,
  "metadata": {
    "colab": {
      "provenance": [],
      "authorship_tag": "ABX9TyMpfK6EgnsIc2XR0nmYYFbk",
      "include_colab_link": true
    },
    "kernelspec": {
      "name": "python3",
      "display_name": "Python 3"
    },
    "language_info": {
      "name": "python"
    }
  },
  "cells": [
    {
      "cell_type": "markdown",
      "metadata": {
        "id": "view-in-github",
        "colab_type": "text"
      },
      "source": [
        "<a href=\"https://colab.research.google.com/github/collinjennings/detectiveLLMs/blob/main/keywordExtractionTest.ipynb\" target=\"_parent\"><img src=\"https://colab.research.google.com/assets/colab-badge.svg\" alt=\"Open In Colab\"/></a>"
      ]
    },
    {
      "cell_type": "markdown",
      "source": [
        "# Keyword Extraction Test with Detective Short Stories\n",
        "\n",
        "This is just a quick test to see what some prominent keyword extraction functions pull from a Sherlock Holmes short story. These functions are designed for pulling keywords from scientific, academic, and generally nonfiction texts.\n",
        "\n",
        "The `rake` results are pretty much nonsense, and the `spacy` results are largely named entities along with other capitalized words that appear in the middle of sentences.\n",
        "\n",
        "The ultimate goal is to find an algorithmic way to describe the distinctive features of clues in detective short stories. For a genre that developed well-worn conventions, I expect to find some patterns in how clues appear in the texts. However, following Poe's model in the foundational \"Purloined Letter\" story, it seems like the patterns may have to do with introducing objects that are in a sense 'hiding in plain sight.'"
      ],
      "metadata": {
        "id": "gb_oZFbG4Q0R"
      }
    },
    {
      "cell_type": "code",
      "execution_count": 1,
      "metadata": {
        "colab": {
          "base_uri": "https://localhost:8080/"
        },
        "id": "OUeWnRIB0kYh",
        "outputId": "5e6d6a8e-8c1a-416c-e591-1318b0de3217"
      },
      "outputs": [
        {
          "output_type": "stream",
          "name": "stdout",
          "text": [
            "Collecting rake-nltk\n",
            "  Downloading rake_nltk-1.0.6-py3-none-any.whl.metadata (6.4 kB)\n",
            "Requirement already satisfied: nltk<4.0.0,>=3.6.2 in /usr/local/lib/python3.10/dist-packages (from rake-nltk) (3.8.1)\n",
            "Requirement already satisfied: click in /usr/local/lib/python3.10/dist-packages (from nltk<4.0.0,>=3.6.2->rake-nltk) (8.1.7)\n",
            "Requirement already satisfied: joblib in /usr/local/lib/python3.10/dist-packages (from nltk<4.0.0,>=3.6.2->rake-nltk) (1.4.2)\n",
            "Requirement already satisfied: regex>=2021.8.3 in /usr/local/lib/python3.10/dist-packages (from nltk<4.0.0,>=3.6.2->rake-nltk) (2024.9.11)\n",
            "Requirement already satisfied: tqdm in /usr/local/lib/python3.10/dist-packages (from nltk<4.0.0,>=3.6.2->rake-nltk) (4.66.5)\n",
            "Downloading rake_nltk-1.0.6-py3-none-any.whl (9.1 kB)\n",
            "Installing collected packages: rake-nltk\n",
            "Successfully installed rake-nltk-1.0.6\n"
          ]
        }
      ],
      "source": [
        "!pip install rake-nltk"
      ]
    },
    {
      "cell_type": "code",
      "source": [
        "import nltk\n",
        "nltk.download('stopwords')\n",
        "nltk.download('punkt')"
      ],
      "metadata": {
        "colab": {
          "base_uri": "https://localhost:8080/"
        },
        "id": "0lu6ogFY0_bH",
        "outputId": "1edb770c-0cac-447a-b01a-cdb2f4b006c8"
      },
      "execution_count": 4,
      "outputs": [
        {
          "output_type": "stream",
          "name": "stderr",
          "text": [
            "[nltk_data] Downloading package stopwords to /root/nltk_data...\n",
            "[nltk_data]   Unzipping corpora/stopwords.zip.\n",
            "[nltk_data] Downloading package punkt to /root/nltk_data...\n",
            "[nltk_data]   Unzipping tokenizers/punkt.zip.\n"
          ]
        },
        {
          "output_type": "execute_result",
          "data": {
            "text/plain": [
              "True"
            ]
          },
          "metadata": {},
          "execution_count": 4
        }
      ]
    },
    {
      "cell_type": "code",
      "source": [
        "from rake_nltk import Rake"
      ],
      "metadata": {
        "id": "iDQaGynq00TZ"
      },
      "execution_count": 2,
      "outputs": []
    },
    {
      "cell_type": "code",
      "source": [
        "rake_nltk_var = Rake()"
      ],
      "metadata": {
        "id": "uKB22l7p04qo"
      },
      "execution_count": 5,
      "outputs": []
    },
    {
      "cell_type": "code",
      "source": [
        "from google.colab import drive\n",
        "drive.mount('/content/drive')"
      ],
      "metadata": {
        "colab": {
          "base_uri": "https://localhost:8080/"
        },
        "id": "vBPTo2Ar1K0Q",
        "outputId": "b22ac919-273c-40a4-ec7d-b299e7b8959e"
      },
      "execution_count": 6,
      "outputs": [
        {
          "output_type": "stream",
          "name": "stdout",
          "text": [
            "Mounted at /content/drive\n"
          ]
        }
      ]
    },
    {
      "cell_type": "code",
      "source": [
        "%cd '/content/drive/MyDrive/Colab Notebooks'"
      ],
      "metadata": {
        "colab": {
          "base_uri": "https://localhost:8080/"
        },
        "id": "vTotbqyS1Qlq",
        "outputId": "770e9adc-ccf9-4d46-e6e7-51ce9ade3761"
      },
      "execution_count": 10,
      "outputs": [
        {
          "output_type": "stream",
          "name": "stdout",
          "text": [
            "/content/drive/MyDrive/Colab Notebooks\n"
          ]
        }
      ]
    },
    {
      "cell_type": "code",
      "source": [
        "text = open('data/texts/MSH03.txt', encoding='utf-8').read()"
      ],
      "metadata": {
        "id": "PIHf9_881EGZ"
      },
      "execution_count": 12,
      "outputs": []
    },
    {
      "cell_type": "code",
      "source": [
        "rake_nltk_var.extract_keywords_from_text(text)\n",
        "keyword_extracted = rake_nltk_var.get_ranked_phrases()"
      ],
      "metadata": {
        "id": "PbXYFrRi2MSW"
      },
      "execution_count": 14,
      "outputs": []
    },
    {
      "cell_type": "code",
      "source": [
        "print(keyword_extracted)"
      ],
      "metadata": {
        "colab": {
          "base_uri": "https://localhost:8080/"
        },
        "id": "ScHfwAPL2eNq",
        "outputId": "f8f239a8-4dda-49cd-aa25-f9a1ae6d1c3f"
      },
      "execution_count": 15,
      "outputs": [
        {
          "output_type": "stream",
          "name": "stdout",
          "text": [
            "['two small things — mere formalities —', 'slip ?” “ impossible ,” answered pycroft', 'stock exchange list every morning .’ “‘', 'british broken hills ?’ “‘ seven', 'clear enough ,” said holmes impatiently', 'exit ?” “ none .” “', 'whole thing hinges upon two points', 'soul ,” groaned hall pycroft', 'financial agent ,” printed upon', 'easily enough ,” said hall pycroft', 'new zealand consolidated ?’ “‘', 'last sudden move .” “', 'little deductive problems .” “', 'look remarkably robust .” “', 'voice within bade us enter', 'six .’ “‘ wonderful !’', 'seventy minutes ,” holmes remarked', 'saturdays .” “ never mind', 'attendant —” “ ah yes', 'aroused .” hall pycroft shook', 'new clerk named hall pycroft', 'gold .” sherlock holmes rubbed', '.’ “‘ well ,’ said', '.” “‘“ done !” said', '£ 500 .”’ “', 'goes !” cried hall pycroft', 'managing director ?” “ quite', '?” “ certainly .” “', 'brisk drumming upon woodwork', 'san remo .’ “', 'past results .” “', 'accountant ,” said holmes', 'shows real application !’', 'suggestive ,” remarked holmes', 'worn three inches deeper', 'plain enough .” “', 'sell crockery .’ “‘', 'hardware .’ “‘ tut', '“ results without causes', 'holmes sprang frantically across', '“‘ pretty fair ,’', 'good memory ?’ said', 'debt .” “ ha', 'better ,” said holmes', 'whereabouts .” “ well', 'collection closed .” “', 'hardly drew another word', 'would heal others must', 'direction ,” said holmes', 'little trying .” “', '“‘ yes ,’ said', 'good master .’ “', 'big one ,” said', 'would appear next monday', '“ good lord !”', 'established one ?” “', 'cut much dash yet', 'course !” yelled holmes', 'monday .’ “‘ ha', 'twenty minutes past one', 'full health .” like', 'definitely engaged .’ “‘', 'brother arthur ,’ said', 'three days last week', 'good price ,” said', 'built .” “ ah', 'suspicions would probably never', 'something beyond grief —', 'course ,” said holmes', 'monday morning .” “', 'new duties ?’ “‘', 'four .” “ thank', 'save upon professional business', 'example ?” “ yes', 'right .’ “‘ really', 'ever set eyes upon', '‘ well ,’ said', 'dear watson ,” said', 'could hardly sit still', 'one conclusion .” “', '.’ “‘ five hundred', 'point .” “ well', 'brother ?” “ well', 'empty yesterday .” “', 'small circular wafer', 'british medical journal', 'temporary premises last week', 'birmingham ?” “ certainly', 'every breath —', 'inner room .” “', 'fiver ,” said', 'depths ,” said', 'well ,” said', 'may well look surprised', 'two deal chairs', 'expect two brothers', 'promise ,’ said', 'hall pycroft ?’', 'believe ?’ said', 'pycroft ,’ said', '—’ “‘ ah', 'watson ?” asked holmes', '?” whispered holmes', 'possibly !” cried mr', '.’ “‘ surely', '.’ “‘ pooh', 'useful .’ “‘', 'loudly .’ “‘', 'eighths .’ “‘', 'pretty shrewd judge', 'new patent leathers', 'impudent scoundrel !’', 'hard enough fight', 'crack volunteer regiments', 'broad red band', 'breathing grew longer', 'american railway bonds', 'sherlock holmes cocked', 'two .” “', '.’ “‘ quite', 'handsome ,’ said', 'joined holmes upon', 'ayrshires ?’ “‘', 'well started upon', '?’ “‘ yes', 'hardly knowing whether', 'one ,’ said', 'three parts mad', 'figures .’ “', '“ ah yes', 'outburst rather astonished', 'water carafe .”', 'well ,” answered', 'explain ,” said', 'doctor ,” said', 'methods .” “', 'experiences .” “', 'employment .” “', 'smart young city man', 'winding stone stair', 'thin white slit', 'somewhat strident tones', 'big red book', ',” cried pycroft', ',” cried pycroft', 'ascended five stories', 'four .’ “‘', 'little sporting flutter', 'little excitements connected', 'dusty little rooms', 'furnished ?” “', '?” “ certainly', '?” “ well', 'vast impression upon', 'one per cent', 'one hinge snapped', 'making energetic inquiries', 'resign ,’ said', 'paris ,’ said', 'detail ,’ said', 'deserve !’ “', 'good .’ “‘', '.’ “‘ good', 'salary .’ “‘', 'salary .’ “‘', 'interesting experience exactly', 'never say enough', '?” “ quite', 'town ,” said', 'room ,” said', 'clerk ,” said', 'time ,” said', 'paper !” croaked', 'really extraordinary stories', 'pinner ,’ said', 'complexioned young fellow', 'classified lists ?’', 'much ,’ said', 'words .’ “‘', 'sir .’ “‘', 'waste paper basket', 'utterly burst asunder', 'shiny top hat', 'seldom went anywhere', 'midland hardware company', 'midland hardware company', 'midland hardware company', 'midland hardware company', 'midland hardware company', 'excellent general practice', 'constable pollack succeeded', 'time ,’ said', 'price ?” “', 'evidently setting upon', 'astonishment depicted upon', 'making obvious efforts', 'famous financial house', 'rather interesting experience', 'came .’ “‘', 'way ,” said', '?” “ one', 'much louder cam', '—” “ pooh', '“‘ lately engaged', 'friend sherlock holmes', 'dare say e', 'two large shops', 'haggard figure huddled', '“ oh surely', 'hall pycroft took', 'one adequate reason', 'stared rather straight', 'city .” “', 'throws light upon', 'gigantic attempted robbery', 'arthur harry pinner', '“ arthur pinner', 'pretty clear also', 'us .” “', 'practice ?” “', 'harris ?” “', 'might trespass upon', '“ rather fine', 'never looked upon', 'beggarly five hundred', 'thing seemed simplicity', 'earthly business reason', 'god !” cried', 'employer without admitting', 'hundred thousand pounds', '“ human nature', 'ripping good testimonial', 'half closed lids', 'names .” “', 'case ?” “', 'second tooth upon', 'like .” “', 'letter .’ “', 'visit baker street', '126b corporation street', '126b corporation street', 'young companion looked', 'kindly write upon', 'taking three pounds', 'wish nothing better', 'feel better pleased', 'company may accommodate', 'man would hardly', 'good man cheap', 'come .” “', 'evening paper spread', 'single table sat', 'yet critical face', 'face turn rigid', 'know ?” “', 'possible .” following', 'completely different hand', ',” said', ',” said', ',” said', ',” said', ',” said', 'one little table', 'small price', 'holmes shook', 'new ,”', 'certainly ,”', 'carpet bag come', ',’ said', ',’ said', ',’ said', '?” said', 'voice behind us', 'hall pycroft', 'hall pycroft', 'hall pycroft', 'hall pycroft', 'hall pycroft', 'hall pycroft', 'could hardly find', 'easily .”', 'paper never entered', 'doubt came upon', '.’ “‘', '.’ “‘', 'managing director', 'managing director', 'friday —', 'left something behind', 'sherlock holmes', 'sherlock holmes', 'holmes sprang', 'clear enough', 'little enough', '?’ “‘', '?’ “‘', '“ ah', '“‘ thank', '.’ “', '.’ “', '“‘ yes', '“‘ yes', '.” “', '.” “', '.” “', '.” “', '.” “', '.” “', '.” “', 'rubbed nervously', 'monday morning', 'every trace', 'definitely engaged', 'big book', '!” “', 'shall want something', 'want good men', 'three minutes', '?” “', '?” “', '?” “', '?” “', '?” “', '?” “', '?” “', '?” “', '?’ “', '?’ “', 'whole thing', 'detectives ,”', 'contrary ,”', 'also ,”', '!” cried', 'smart !’', 'great stock', 'duties ?’', '“ certainly', '!’ “', 'labors .’', 'music hall', 'well built', 'two hundred', 'new duties', '?” cried', 'holmes answered', 'five minutes', '“ yes', '“ yes', '“ yes', 'one morning', 'every hope', 'new street', 'new street', 'sir ,’', 'business done', 'us .”', '“‘ oh', 'watson ,”', 'thinking better', 'pretty sharp', 'pray sit', 'pinner !”', 'new acquaintance', 'may save', 'looked across', 'hardware sellers', 'english crockery', 'done otherwise', 'pycroft untied', 'closed behind', 'enough work', 'shall certainly', 'hieroglyphics upon', 'devolved upon', 'chin upon', 'somewhat surprised', 'quite right', 'quite fits', 'financial ability', 'dear fellow', 'old coxon gave', 'criminal .’', 'last week', 'corporation street', 'watson ?”', 'whole furniture', 'things altered', 'professional men', 'train .”', 'slippers .”', 'would rather', 'would rather', '“‘ precisely', 'pycroft write', 'dare say', 'birmingham .”', 'two friends', 'brisk kind', 'unnaturally goes', 'still unfinished', 'still encircled', 'naturally full', 'gold stuffing', 'full expectation', '“ oh', 'time back mawson', 'police .”', 'three months', 'instant .”', 'three hundred', 'never dreamed', 'hardly know', 'advance upon', 'year !’', 'wondering whether', 'unwell lately', 'old companion', 'medical practice', 'lofty stair', 'gigantic robbery', 'fine athletes', 'famous forger', 'dead white', 'bad impression', 'work ?’', 'holmes stood', 'last words', '“ look', 'yet clear', 'clear run', 'little shivering', 'little problem', 'little game', 'little game', 'little chill', 'four branches', 'far .”', 'shall feel', 'young friend', 'week rise', 'one turned', 'one knows', 'one event', 'one corner', 'one acted', 'counting one', 'cold water', 'cold water', 'hundred pounds', 'hundred pounds', 'hundred pounds', '“ whatever', '“ idiot', '‘ well', 'surprising experience', 'returning reason', 'next day', 'minimum salary', 'rather give', 'office upon', 'us one', 'hook behind', 'closed door', 'inner side', 'inner room', 'handsome advance', 'fairly obvious', 'would strike', 'would risk', 'game would', 'damp would', 'concern would', 'harry pinner', 'harry pinner', 'second point', 'look ill', 'lombard street', 'important business', 'five years', 'five years', 'little time', 'evening would', 'thought upon', '—', 'yellow mustache', 'venezuelan loan', 'various locks', 'usually works', 'usually verbal', 'turned adrift', 'true sphere', 'triumph burst', 'thorough knowledge', 'third person', 'summer colds', 'strange mixture', 'soft johnnie', 'slip', 'slightly scorched', 'shining tables', 'severe chill', 'sergeant tuson', 'sergeant tuson', 'secret must', 'sat reading', 'rushed upstairs', 'richest house', 'reliable ones', 'recently emerged', 'rapidly rifled', 'queer part', 'privately subscribed', 'preposterous company', 'predecessor weakened', 'practice declined', 'poker delivered', 'perfectly willing', 'perfect frost', 'penal servitude', 'paper beside', 'paddington district', 'overriding commission', 'old notes', 'obtained entrance', 'neat suit', 'nasty cropper', 'must wire', 'must confirm', 'must arrange', 'million sterling', 'may prove', 'may prove', 'material assistance', 'many flats', 'low guggling', 'looks askance', 'livid creases', 'leaned forward', 'latest edition', 'latest construction', 'labeled cockneys', 'instantly walk', 'happy chance', 'great interests', 'great depot', 'gazed expectantly', 'gargling sound', 'furniture shops', 'feet outstretched', 'family resemblance', 'extraordinary bit', 'exchange', 'eventually manage', 'elastic bands', 'elaborate hoax', 'dreadful wreck', 'dreadful angle', 'desperate resistance', 'desperate attempt', 'curative powers', 'corner nearest', 'confounded fool', 'conflicting feelings', 'comical distress', 'comet vintage', 'clean shaven', 'calmer tone', 'bustling along', 'brow glistened', 'brass plate', 'blind beetle', 'blessed mystery', 'ball beneath', '17 potter', 'one time', 'never heard', 'never heard', 'think quite', 'last night', 'one man', 'breath away', 'inner door', '“‘ mr', 'temporary offices', 'temporary offices', 'little trouble', 'one hand', 'four agents', 'earth —”', 'shall wire', 'shall follow', 'giving us', 'went back', 'leaning back', 'leaning back', 'evening standard', 'evening paper', 'natural breath', 'large safe', 'large amount', 'ever wish', 'ever since', 'complete case', 'never seen', 'smash came', 'ruddy face', 'honest face', 'good fortune', 'colored face', 'brother turns', 'second door', 'mouth seemed', 'kindly read', 'kept hard', 'much thinned', 'business man', 'unfurnished room', 'unfortunate watchman', 'tooth stuffed', 'strong room', 'purple lips', 'entirely recovered', 'entirely obliterated', 'dry lips', 'dismantled kind', 'bought one', 'badly stuffed', 'armed watchman', 'saw little', 'would make', 'would make', 'back came', 'man whose', 'man pretend', 'dressed man', 'bearded man', 'turned away', 'hammered away', 'would take', 'nothing could', 'people say', 'give us', 'walking ahead', 'utmost importance', 'turn pale', 'staring blankly', 'spoke sharply', 'sober black', 'sharp rat', 'sake leave', 'prompt action', 'person appears', 'permanent guard', 'particular line', 'parker spoke', 'outré features', 'obtain moulding', 'none', 'night hugging', 'must confess', 'may wait', 'make anything', 'intense excitement', 'identical fashion', 'equally anxious', 'early edition', 'courteous air', 'class carriage', 'broken', 'boots paddling', 'began biting', 'business matter', 'opened door', 'may work', 'may take', 'door leads', 'remember parker', 'remember hearing', 'hands deep', 'clinched hands', 'city police', 'business manager', 'business manager', 'office stairs', 'great office', 'leave us', 'know nothing', '‘ rome', '‘ crime', 'two', 'stock', 'went round', 'usual appearance', 'step towards', 'someone wanted', 'show zeal', 'sergeant followed', 'looking keenly', 'greatest use', 'get nothing', 'farther end', 'broking firm', 'braces round', 'case caught', 'head hung', 'head buzzed', 'twelve hundred', 'therefore secure', 'request made', 'pray consider', 'moment presenting', 'hand side', 'hampstead way', '.”', '.”', '.”', 'said', 'old mr', 'official position', 'chair towards', 'morrow evening', '!”', 'london paper', 'least hope', 'first sip', 'fairly lost', 'client tapped', 'found doubled', 'false name', 'plenty time', 'long time', 'pushing man', '?”', 'shall hear', 'could make', 'might find', 'suddenly came', 'soon worked', 'six', 'seventy', 'night train', 'mind', 'list', 'list', 'ha', 'ghastly smile', 'enter', 'easily', 'aroused', 'might take', 'holmes', 'holmes', 'holmes', 'holmes', 'holmes', 'pycroft', 'pycroft', 'pycroft', 'pycroft', 'well', 'well', 'well', 'left day', 'upon', 'upon', 'upon', 'morning', 'morning', 'always ready', 'minutes', 'got wet', 'got hold', 'might tell', 'whole', 'things', 'things', '“‘', '“‘', '“‘', '“‘', '“‘', '“‘', '“‘', '“‘', '“‘', '“‘', '“‘', '“‘', '“‘', '“‘', 'door made', 'without', 'really', 'points', 'points', 'monday', 'monday', 'gold', 'goes', 'could see', 'three', 'young', 'thing', 'thing', 'never', 'never', '‘ mawson', 'yesterday', 'worn', 'word', 'twenty', 'suspicions', 'suggestive', 'price', 'premises', 'possibly', 'grief', 'example', 'engaged', 'drew', 'direction', 'conclusion', 'beyond', 'application', 'last', 'last', 'last', 'five', 'clear', 'clear', 'little', 'little', '—”', '—”', 'four', '“‘“', '“‘“', 'week', 'week', 'surprised', 'smart', 'one', 'one', 'one', 'one', 'one', 'making', 'dear', 'built', '126b', '“', '“', '“', '“', '“', '“', '“', '“', '“', '“', '“', '“', '“', '“', '“', '“', '“', '“', '“', '“', '“', '“', '“', '“', '“', '“', '“', '“', '“', '“', '“', '“', '“', '“', '“', '“', '“', '“', '“', '“', '“', '“', '“', '“', '“', '“', '“', '“', '“', '“', '“', '“', '“', '“', '“', '“', '“', '“', '“', '“', '“', 'answered', 'answered', 'answered', 'answered', 'good', 'good', 'good', 'good', 'good', 'good', 'good', 'good', 'salary', 'reason', 'experience', 'duties', 'voice', 'voice', 'voice', 'say', 'behind', 'something', 'something', 'something', 'would', 'would', 'would', 'would', 'cried', 'cried', 'cried', 'cried', 'cried', 'cried', 'look', 'look', 'look', 'look', 'street', 'street', 'business', 'business', 'yet', 'yet', 'yet', 'words', 'wish', 'went', 'visit', 'turn', 'top', 'tooth', 'testimonial', 'taking', 'succeeded', 'stared', 'sir', 'shops', 'sat', 'robbery', 'right', 'right', 'resign', 'practice', 'practice', 'paris', 'paper', 'paper', 'paper', 'paper', 'old', 'nothing', 'nature', 'must', 'must', 'may', 'may', 'may', 'looked', 'looked', 'lists', 'house', 'harris', 'god', 'following', 'eyes', 'eyes', 'explain', 'evidently', 'empty', 'empty', 'doctor', 'different', 'detail', 'company', 'company', 'company', 'company', 'company', 'company', 'city', 'city', 'city', 'burst', 'bag', 'astonishment', 'also', 'hundred', 'hundred', 'hundred', 'hundred', 'hundred', 'shall', 'shall', 'us', 'us', 'us', 'us', 'us', 'us', 'us', 'evening', 'evening', 'back', 'back', 'seven', 'seven', 'seven', 'seven', 'seven', 'ever', 'ever', 'ever', 'pinner', 'pinner', 'pinner', 'pinner', 'pinner', 'table', 'table', 'table', 'point', 'point', 'point', 'case', 'case', 'face', 'face', 'face', 'face', 'came', 'came', 'came', 'came', 'brother', 'brother', 'brother', 'brother', 'brother', 'brother', 'write', 'write', 'seemed', 'seemed', 'men', 'men', 'friend', 'friend', 'much', 'much', 'much', 'much', 'much', 'much', 'much', 'years', 'watson', 'watson', 'watson', 'watson', 'watson', 'watson', 'watson', 'watson', 'watchman', 'town', 'town', 'stuffed', 'side', 'room', 'room', 'room', 'room', 'room', 'room', 'room', 'names', 'names', 'lips', 'light', 'light', 'kind', 'hope', 'give', 'figure', 'figure', 'fairly', 'entirely', 'employer', 'employer', 'clerk', 'clerk', 'clerk', 'clerk', 'clerk', 'clerk', 'clerk', 'advance', 'time', 'time', 'time', 'time', 'time', 'time', 'time', 'time', 'time', 'like', 'like', 'like', 'like', 'like', 'like', 'man', 'man', 'man', 'man', 'man', 'man', 'man', 'man', 'man', 'man', 'man', 'man', 'man', 'left', 'left', 'left', 'away', 'away', 'hand', 'hand', 'hand', 'hand', 'could', 'could', 'could', 'could', 'could', 'could', 'could', 'could', 'could', 'might', 'might', 'might', 'might', 'might', 'course', 'course', 'course', 'course', 'course', 'course', 'course', 'course', 'course', 'year', 'worked', 'wet', 'walking', 'wait', 'trouble', 'train', 'train', 'stood', 'staring', 'spoke', 'spoke', 'soon', 'smile', 'slippers', 'safe', 'ready', 'rat', 'pushing', 'possible', 'possible', 'possible', 'plenty', 'pleased', 'pleased', 'pleased', 'pale', 'obtain', 'night', 'night', 'night', 'natural', 'make', 'make', 'make', 'make', 'lost', 'long', 'line', 'letter', 'letter', 'letter', 'leave', 'leave', 'least', 'importance', 'hold', 'half', 'half', 'half', 'guard', 'ghastly', 'gave', 'gave', 'gave', 'fortune', 'find', 'find', 'find', 'find', 'features', 'fashion', 'excitement', 'entered', 'entered', 'entered', 'earth', 'early', 'criminal', 'confess', 'class', 'caught', 'boots', 'black', 'bit', 'began', 'appears', 'anxious', 'amount', 'air', 'agents', 'action', 'ability', 'want', 'want', 'want', 'want', 'want', 'want', 'want', 'birmingham', 'birmingham', 'birmingham', 'birmingham', 'birmingham', 'birmingham', 'birmingham', 'work', 'work', 'work', 'work', 'take', 'take', 'take', 'take', 'door', 'door', 'door', 'door', 'door', 'door', 'door', 'door', 'took', 'took', 'took', 'took', 'remember', 'remember', 'remember', 'police', 'police', 'police', 'heard', 'heard', 'heard', 'hands', 'hands', 'hands', 'doubt', 'doubt', 'doubt', 'doubt', 'office', 'office', 'office', 'office', 'office', 'know', 'know', 'know', 'know', 'know', 'know', 'know', 'know', '‘', '‘', '‘', '‘', '‘', '‘', '‘', '‘', '‘', '‘', '‘', '‘', '‘', '‘', '‘', 'wanted', 'wanted', 'use', 'use', 'twelve', 'twelve', 'step', 'step', 'show', 'show', 'round', 'round', 'round', 'round', 'people', 'people', 'morrow', 'morrow', 'matter', 'matter', 'looking', 'looking', 'instant', 'instant', 'get', 'get', 'friends', 'friends', 'followed', 'followed', 'firm', 'firm', 'end', 'end', 'coxon', 'coxon', 'coxon', 'coxon', 'coxon', 'come', 'come', 'come', 'come', 'come', 'come', 'come', 'come', 'come', 'come', 'bought', 'bought', 'asked', 'asked', 'asked', 'asked', 'asked', 'asked', 'asked', 'asked', 'appearance', 'appearance', 'always', 'always', 'manager', 'manager', 'manager', 'manager', 'manager', 'head', 'head', 'head', 'head', 'head', 'got', 'got', 'got', 'got', 'got', 'therefore', 'therefore', 'therefore', 'suddenly', 'suddenly', 'suddenly', 'seen', 'seen', 'seen', 'saw', 'saw', 'saw', 'read', 'read', 'read', 'offices', 'offices', 'offices', 'offices', 'offices', 'offices', 'moment', 'moment', 'moment', 'made', 'made', 'made', 'made', 'made', 'made', 'kept', 'kept', 'kept', 'day', 'day', 'day', 'day', 'day', 'day', 'consider', 'consider', 'consider', 'way', 'way', 'way', 'way', 'way', 'way', 'way', 'way', 'way', 'way', 'way', 'mr', 'mr', 'mr', 'mr', 'mr', 'mr', 'mr', 'mr', 'mr', 'mr', 'mr', 'mr', 'mr', 'mr', 'mr', 'mr', 'mr', 'mr', 'mr', 'mr', 'mr', 'tell', 'tell', 'tell', 'tell', 'position', 'position', 'position', 'position', 'hear', 'hear', 'hear', 'hear', 'chair', 'chair', 'chair', 'chair', 'thought', 'thought', 'thought', 'thought', 'thought', 'mawson', 'mawson', 'mawson', 'mawson', 'mawson', 'mawson', 'mawson', 'mawson', 'mawson', 'mawson', 'mawson', 'mawson', 'mawson', 'mawson', 'mawson', 'mawson', 'london', 'london', 'london', 'london', 'london', 'first', 'first', 'first', 'first', 'first', 'far', 'far', 'far', 'far', 'far', 'client', 'client', 'client', 'client', 'client', 'name', 'name', 'name', 'name', 'name', 'name', 'found', 'found', 'found', 'found', 'found', 'found', 'think', 'think', 'think', 'think', 'think', 'think', 'think', 'think', 'see', 'see', 'see', 'see', 'see', 'see', 'see', 'see', 'see', 'see', 'see', 'see', 'see', 'see', 'youth', 'wrote', 'written', 'writing', 'worth', 'worst', 'working', 'wore', 'woodhouse', 'woodhouse', 'winning', 'window', 'window', 'window', 'williams', 'williams', 'williams', 'wild', 'wig', 'wife', 'whip', 'wheeler', 'weight', 'weeks', 'wednesday', 'wednesday', 'wearing', 'watched', 'warmly', 'wall', 'wall', 'walked', 'waistcoat', 'waist', 'vitus', 'villain', 'villages', 'vanished', 'value', 'value', 'valuable', 'vacancy', 'vacancy', 'utilized', 'used', 'used', 'used', 'used', 'unwilling', 'unusual', 'undid', 'understand', 'understand', 'underrated', 'uncurtained', 'uncarpeted', 'twinkle', 'trusted', 'trust', 'trust', 'trouser', 'trifle', 'tried', 'tried', 'tried', 'trades', 'towns', 'touch', 'touch', 'touch', 'tonight', 'told', 'told', 'told', 'together', 'tinge', 'thus', 'thrust', 'throat', 'thrill', 'threw', 'though', 'though', 'though', 'thirty', 'thirty', 'tether', 'testing', 'terror', 'terrace', 'temper', 'telling', 'tat', 'tat', 'tat', 'task', 'task', 'talked', 'talked', 'talked', 'talk', 'takes', 'taken', 'system', 'swim', 'swears', 'suspects', 'sure', 'suppose', 'suppose', 'sunk', 'sunday', 'sum', 'suicide', 'suggested', 'suggested', 'suffered', 'succession', 'struck', 'striding', 'story', 'story', 'stooped', 'stick', 'stick', 'steps', 'steps', 'start', 'stands', 'stamps', 'stake', 'staff', 'st', 'spring', 'sportsmen', 'spell', 'specimen', 'specimen', 'speaking', 'sort', 'sort', 'soles', 'soar', 'snap', 'smoke', 'smallish', 'slight', 'slates', 'skull', 'skin', 'sized', 'situated', 'sitting', 'sitting', 'sitting', 'sitting', 'sign', 'sight', 'shut', 'shrugged', 'showed', 'shouted', 'shoulders', 'shot', 'shortly', 'shopman', 'shivers', 'sheeny', 'shattered', 'shaking', 'settled', 'services', 'service', 'service', 'service', 'sent', 'sent', 'sense', 'seem', 'seem', 'seeing', 'securities', 'securities', 'secured', 'scrip', 'scribbled', 'screw', 'scratching', 'saying', 'saved', 'saturday', 'satisfactory', 'sank', 'sang', 'safes', 'safes', 'safes', 'rushing', 'running', 'rows', 'row', 'rose', 'rogues', 'rogue', 'rocking', 'road', 'rising', 'ring', 'return', 'resumed', 'rest', 'responsibility', 'removed', 'remain', 'remain', 'recognize', 'receive', 'reasoning', 'reach', 'razor', 'ran', 'ran', 'raised', 'quiet', 'question', 'question', 'quarter', 'quarter', 'qualities', 'put', 'put', 'put', 'put', 'put', 'pushed', 'purchased', 'purchased', 'purchase', 'pulse', 'pulled', 'pulled', 'pull', 'puffing', 'public', 'public', 'provided', 'prosper', 'promoter', 'promised', 'progress', 'procure', 'principle', 'prevent', 'prevent', 'pretending', 'presume', 'presents', 'present', 'praises', 'poured', 'pour', 'pound', 'pointed', 'pockets', 'pocket', 'pocket', 'pocket', 'pocket', 'plunges', 'plot', 'please', 'place', 'place', 'place', 'place', 'picked', 'pick', 'perspiration', 'perhaps', 'perceive', 'pay', 'pause', 'patience', 'passed', 'passed', 'passage', 'pass', 'paroxysm', 'painted', 'overwork', 'outside', 'outside', 'ought', 'order', 'opening', 'open', 'open', 'offer', 'offer', 'offer', 'offensive', 'occurred', 'occupants', 'observe', 'notice', 'note', 'note', 'note', 'note', 'note', 'nose', 'noise', 'nodding', 'nobody', 'neighbor', 'neighbor', 'neighbor', 'neck', 'neck', 'nearly', 'near', 'near', 'nails', 'murderer', 'murdered', 'murder', 'mrs', 'money', 'money', 'modestly', 'miss', 'mines', 'mine', 'mine', 'mine', 'midlands', 'middle', 'midday', 'measured', 'meanwhile', 'means', 'means', 'marriage', 'marks', 'market', 'mark', 'manner', 'lying', 'lots', 'lots', 'live', 'limited', 'limited', 'limited', 'limited', 'likeness', 'likely', 'lighter', 'lifetime', 'life', 'licking', 'let', 'let', 'let', 'let', 'let', 'let', 'let', 'let', 'let', 'length', 'ledger', 'led', 'led', 'learns', 'learned', 'learn', 'learn', 'lead', 'lay', 'lay', 'lay', 'laughed', 'laughed', 'largest', 'landlady', 'knocking', 'knew', 'knew', 'knees', 'kindness', 'keeper', 'keep', 'keep', 'keep', 'june', 'june', 'joy', 'jove', 'journey', 'joins', 'job', 'islands', 'introduce', 'interview', 'interval', 'interrupted', 'interrupt', 'intermittent', 'interest', 'intend', 'intelligence', 'instep', 'inspire', 'innings', 'impressive', 'impersonating', 'imitate', 'imitate', 'imagine', 'imagine', 'however', 'however', 'however', 'however', 'however', 'houses', 'hours', 'hour', 'hour', 'hotel', 'hotel', 'hotel', 'horse', 'horror', 'hoped', 'home', 'high', 'held', 'heels', 'heels', 'heart', 'heap', 'headlines', 'harm', 'happened', 'hanging', 'hang', 'handwriting', 'handwriting', 'haired', 'hair', 'h', 'gutter', 'guardians', 'gratitude', 'gone', 'gone', 'going', 'going', 'go', 'go', 'go', 'go', 'go', 'glint', 'glibly', 'glancing', 'glancing', 'glanced', 'glanced', 'glad', 'gives', 'given', 'getting', 'getting', 'getting', 'gentlemen', 'gentlemen', 'gentleman', 'gentleman', 'gentleman', 'gardens', 'front', 'fresh', 'frank', 'frank', 'franco', 'franco', 'franco', 'franco', 'franco', 'france', 'france', 'forgotten', 'forget', 'forfeited', 'fooled', 'flourishing', 'floor', 'flood', 'flattened', 'fix', 'fish', 'fire', 'feeble', 'fear', 'fault', 'fastened', 'farquhar', 'failed', 'fail', 'fact', 'facing', 'eyelids', 'eyed', 'eye', 'eye', 'eye', 'express', 'explained', 'expecting', 'exclaimed', 'exception', 'examining', 'examined', 'events', 'events', 'even', 'even', 'envelopes', 'engager', 'engagement', 'energy', 'employers', 'employed', 'ecstasy', 'dull', 'drying', 'drugs', 'driven', 'drawn', 'drawer', 'draper', 'dr', 'dr', 'dr', 'double', 'disheartened', 'discovered', 'discovered', 'disappeared', 'directory', 'directions', 'diggings', 'difficulty', 'difference', 'deuce', 'desserts', 'deserted', 'described', 'delighted', 'delighted', 'delight', 'delight', 'deduced', 'declaration', 'death', 'dark', 'dark', 'dark', 'dark', 'dark', 'daring', 'dance', 'customary', 'cushions', 'culminating', 'cry', 'crisp', 'crib', 'crash', 'cracksman', 'couple', 'couple', 'corners', 'convinced', 'conversation', 'continued', 'continue', 'contact', 'constraint', 'considerably', 'consequence', 'conscious', 'connoisseur', 'connection', 'confined', 'confidence', 'conductor', 'concluded', 'completed', 'compared', 'companies', 'companies', 'committed', 'coming', 'comes', 'comes', 'comes', 'collar', 'coaxing', 'coat', 'clutching', 'closely', 'clock', 'clock', 'clerks', 'clerks', 'clerks', 'clay', 'clatter', 'classifying', 'choice', 'cheeriness', 'cheerily', 'cheeks', 'chaps', 'chap', 'chap', 'changed', 'changed', 'catch', 'cast', 'carried', 'cares', 'carefully', 'card', 'capture', 'capture', 'capital', 'call', 'cabs', 'cabby', 'cab', 'c', 'busy', 'busses', 'burned', 'building', 'brussels', 'brought', 'brought', 'brought', 'broker', 'bring', 'bring', 'bring', 'breast', 'breast', 'breakfast', 'boy', 'boy', 'boy', 'boy', 'boy', 'boy', 'bowing', 'bowed', 'bottom', 'bore', 'booty', 'body', 'body', 'body', 'board', 'blow', 'blanched', 'bitterness', 'billet', 'billet', 'billet', 'best', 'berth', 'bermondsey', 'belly', 'bell', 'beginning', 'beg', 'beddington', 'beddington', 'bawling', 'basin', 'bare', 'backs', 'ask', 'ascertained', 'arresting', 'arrangements', 'arms', 'arm', 'appointment', 'appointment', 'appointment', 'appointment', 'applied', 'appeared', 'appeared', 'apparently', 'anyhow', 'answer', 'answer', 'answer', 'answer', 'among', 'altogether', 'although', 'aloud', 'allow', 'allotment', 'alike', 'aid', 'agree', 'aggregate', 'age', 'afternoon', 'afraid', 'afraid', 'affliction', 'affection', 'advice', 'advertisements', 'advertisement', 'adventure', 'addresses', 'addressed', 'address', 'address', 'act', 'accused', 'account', 'account', 'absence', 'able', 'able']\n"
          ]
        }
      ]
    },
    {
      "cell_type": "code",
      "source": [
        "import spacy"
      ],
      "metadata": {
        "id": "Ub0C4Y8A2qWv"
      },
      "execution_count": 16,
      "outputs": []
    },
    {
      "cell_type": "code",
      "source": [
        "nlp = spacy.load(\"en_core_web_sm\")"
      ],
      "metadata": {
        "id": "2PrIl2Rb3Aye"
      },
      "execution_count": 19,
      "outputs": []
    },
    {
      "cell_type": "code",
      "source": [
        "doc = nlp(text)\n",
        "print(doc.ents)"
      ],
      "metadata": {
        "colab": {
          "base_uri": "https://localhost:8080/"
        },
        "id": "8XqAj_Ru3prP",
        "outputId": "5114b515-c7df-45e1-9c9a-deef67878c65"
      },
      "execution_count": 20,
      "outputs": [
        {
          "output_type": "stream",
          "name": "stdout",
          "text": [
            "(Paddington, Farquhar, one, twelve hundred, a very few years, three months, Sherlock Holmes, Baker Street, one morning, June, the British Medical Journal, Watson, Watson, only last night, Birmingham, Holmes, half, Summer, three days last week, Holmes, more than a few weeks, so wet a June, Holmes, Birmingham, four, Holmes, two, three inches, Hall Pycroft, cabby, half, first, Birmingham, Sherlock Holmes, seventy minutes, Holmes, Hall Pycroft, Watson, Pycroft, Johnnie, Watson, Coxon & Woodhouse's, Draper's Gardens, the spring, Venezuelan, five years, Coxon, twenty-seven, three pounds, Coxon's, Mawson & Williams's, Lombard Street, E. C., London, next Monday, first, week, Coxon's, 17, that very evening, Arthur Pinner, Hall Pycroft, ‘Lately, Coxon & Woodhouse's, ‘And now on the staff, Mawson, “‘Quite so, ‘Well, Parker, Coxon, every morning, Ayrshires, “‘A hundred and six and a quarter to a hundred and five and seven-eighths, ‘And New Zealand, “‘A hundred and four., ‘And British Broken Hills, “‘Wonderful!, Mawson, Pinner, “‘Pooh, Mawson, Mawson, Monday, Mawson, that day, the Franco-Midland Hardware Company, Limited, a hundred and thirty-four, France, Brussels, one, San Remo, I.\n",
            "“‘Very, Harry Pinner, Parker, tonight, five hundred, “‘Five hundred a year, one per cent, “‘Tut, I. ‘Mawson, two hundred, Mawson, “‘Ah, a hundred pounds, I. ‘, “‘Be in, Birmingham, 126b Corporation Street, Pinner, I.\n",
            "“‘Not, one, two, the Franco-Midland Hardware Company, Limited, 500, one, Mawson, Mawson, I.\n",
            "“‘Precisely, Mawson, I.\n",
            "“‘, “‘Good!, a hundred pounds, 126b Corporation Street, one o'clock, Watson, half the night, next day, Birmingham, New Street, a quarter of an hour, 126b, two, the Franco-Midland Hardware Company, Limited, a few minutes, the night, Hall Pycroft, I.\n",
            "“‘Oh, this morning, last week, two, one, Pycroft, a day, Arthur, London, Birmingham, Paris, English, a hundred and thirty-four, France, a week, Birmingham, Paris, Monday, twelve, Good-day, Pycroft, a hundred pounds, Sunday, Monday, Wednesday, Wednesday, Friday, yesterday, Harry Pinner, I.\n",
            "“‘And now, evening, seven, A couple of hours, Music Hall, second, Sherlock Holmes rubbed his, Watson, London, Mawson, two, London, Birmingham, Sherlock Holmes, this morning, Birmingham, Sherlock Holmes, first, Watson, Arthur Harry Pinner, the Franco-Midland Hardware Company, Limited, Hall Pycroft, two, Holmes, New Street, seven o'clock, three, Corporation Street, the very hour, Holmes, By Jove, evening, Hall Pycroft, five, half, Hall Pycroft, evening, Pinner, One, Harris, Bermondsey, Price, Pinner, Harris, Holmes, Price, I.\n",
            "“, Holmes, Hall Pycroft, Pinner, Pycroft, three minutes, Holmes, Pycroft, yesterday, three, Pinner, Pycroft, Holmes, Holmes, One, one, second, the Franco-Midland Hardware Company, Holmes, Pycroft, five minutes, Watson, Holmes, Holmes, Pycroft, Holmes, Watson, I.\n",
            "“, first, one, two, first, Pycroft, only one, first, second, Pinner, Hall Pycroft, Monday, morning, Hall Pycroft, Mawson, Midlands, London, only two, third, Hall Pycroft, Hall Pycroft, Mawson, Holmes, Mawson, twelve, Saturdays, Holmes, Watson, London, the Evening Standard, Mawson & Williams's, Robbery, Watson, one, one, this afternoon, Mawson & Williams, over a million, day, night, last week, Hall Pycroft, Beddington, five years', Mawson, midday, Saturday, Sergeant Tuson, twenty minutes past one, Constable Pollack, Nearly a hundred thousand pounds, American, Monday morning, Sergeant Tuson, Beddington, Holmes, Watson, Pycroft)\n"
          ]
        }
      ]
    }
  ]
}